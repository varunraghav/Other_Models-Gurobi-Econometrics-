{
  "nbformat": 4,
  "nbformat_minor": 0,
  "metadata": {
    "colab": {
      "provenance": []
    },
    "kernelspec": {
      "name": "python3",
      "display_name": "Python 3"
    },
    "language_info": {
      "name": "python"
    }
  },
  "cells": [
    {
      "cell_type": "code",
      "execution_count": 5,
      "metadata": {
        "id": "9p75aD131l1b"
      },
      "outputs": [],
      "source": [
        "from gurobipy import Model, GRB"
      ]
    },
    {
      "cell_type": "code",
      "source": [
        "!pip install gurobipy"
      ],
      "metadata": {
        "colab": {
          "base_uri": "https://localhost:8080/"
        },
        "id": "u2jRUkOs101e",
        "outputId": "71c8457a-2d94-47ed-e580-8821e0a55440"
      },
      "execution_count": 4,
      "outputs": [
        {
          "output_type": "stream",
          "name": "stdout",
          "text": [
            "Collecting gurobipy\n",
            "  Downloading gurobipy-12.0.0-cp311-cp311-manylinux2014_x86_64.manylinux_2_17_x86_64.whl.metadata (15 kB)\n",
            "Downloading gurobipy-12.0.0-cp311-cp311-manylinux2014_x86_64.manylinux_2_17_x86_64.whl (14.4 MB)\n",
            "\u001b[2K   \u001b[90m━━━━━━━━━━━━━━━━━━━━━━━━━━━━━━━━━━━━━━━━\u001b[0m \u001b[32m14.4/14.4 MB\u001b[0m \u001b[31m55.1 MB/s\u001b[0m eta \u001b[36m0:00:00\u001b[0m\n",
            "\u001b[?25hInstalling collected packages: gurobipy\n",
            "Successfully installed gurobipy-12.0.0\n"
          ]
        }
      ]
    },
    {
      "cell_type": "markdown",
      "source": [
        "# Problem\n",
        "\n",
        "A steel manufacturing company manufactures wires and rods used in commercial cars and trucks. Each roll of wire uses 10 kg of steel, and each rod uses 8 kg of steel. Additionally, each roll of wire and each rod contribute a profit of $300 and $275, respectively. The production runs on two separate lines.  Based on demand the number of the rolls of wire produced should be at least two times the number of rods produced. There is 2,016 kg of steel available. Find the decision that helps the company to gain maximum profit."
      ],
      "metadata": {
        "id": "CXGo1_kSc6fx"
      }
    },
    {
      "cell_type": "markdown",
      "source": [
        "## Initiate"
      ],
      "metadata": {
        "id": "6oURQkH2dVWO"
      }
    },
    {
      "cell_type": "code",
      "source": [
        "model = Model(\"Steel Manufacturing\")"
      ],
      "metadata": {
        "colab": {
          "base_uri": "https://localhost:8080/"
        },
        "id": "87Jvi2ey14UG",
        "outputId": "f0a30e28-7317-4fe0-b181-6fc462dab183"
      },
      "execution_count": 6,
      "outputs": [
        {
          "output_type": "stream",
          "name": "stdout",
          "text": [
            "Restricted license - for non-production use only - expires 2026-11-23\n"
          ]
        }
      ]
    },
    {
      "cell_type": "markdown",
      "source": [
        "## Write down problem as equations"
      ],
      "metadata": {
        "id": "3tPSORUCdYxP"
      }
    },
    {
      "cell_type": "markdown",
      "source": [
        "\n",
        "Wires and rods produced. Both need steel\n",
        "\n",
        "Wires = 10 kg of steel\n",
        "Rod = 8kg\n",
        "\n",
        "each roll. = 300 profit\n",
        "rod = 275\n",
        "\n",
        "Constraints:\n",
        "x_rolls >= 2*y_rod\n",
        "Total steel = 2016\n",
        "i.e (x_rolls*10) + (y_rod*8) = 2016\n",
        "\n",
        "Objective:\n",
        "Max(Profits)\n",
        "Profits: (x_rolls*300) + (y_rod*275)\n",
        "\n",
        "\n"
      ],
      "metadata": {
        "id": "KVlc-qHURXAt"
      }
    },
    {
      "cell_type": "markdown",
      "source": [
        "## Define variables, add constraints and set Objective:"
      ],
      "metadata": {
        "id": "JZgfpYfZdeN3"
      }
    },
    {
      "cell_type": "code",
      "source": [
        "x_rolls = model.addVar(vtype=GRB.INTEGER, name=\"x_rolls\")\n",
        "y_rod = model.addVar(vtype=GRB.INTEGER, name=\"y_rod\")"
      ],
      "metadata": {
        "id": "9UXpFBgGR_Y0"
      },
      "execution_count": 15,
      "outputs": []
    },
    {
      "cell_type": "code",
      "source": [
        "# Correctly access variables using model.getVarByName() in both constraints\n",
        "model.addConstr(2*x_rolls >= y_rod)\n",
        "model.addConstr(10*x_rolls + 8*y_rod== 2016)"
      ],
      "metadata": {
        "colab": {
          "base_uri": "https://localhost:8080/"
        },
        "id": "I72w-yoqWxre",
        "outputId": "bccc9bc6-fb30-42b4-df80-136ff2463950"
      },
      "execution_count": 17,
      "outputs": [
        {
          "output_type": "execute_result",
          "data": {
            "text/plain": [
              "<gurobi.Constr *Awaiting Model Update*>"
            ]
          },
          "metadata": {},
          "execution_count": 17
        }
      ]
    },
    {
      "cell_type": "code",
      "source": [
        "profit = 300*x_rolls + 275*y_rod"
      ],
      "metadata": {
        "id": "TNxf-DvQW96T"
      },
      "execution_count": 18,
      "outputs": []
    },
    {
      "cell_type": "code",
      "source": [
        "model.setObjective(profit, GRB.MAXIMIZE)"
      ],
      "metadata": {
        "id": "-anj-5l5cq75"
      },
      "execution_count": 19,
      "outputs": []
    },
    {
      "cell_type": "markdown",
      "source": [
        "## Run Model"
      ],
      "metadata": {
        "id": "-0zAB0T7drGq"
      }
    },
    {
      "cell_type": "code",
      "source": [
        "model.optimize()"
      ],
      "metadata": {
        "colab": {
          "base_uri": "https://localhost:8080/"
        },
        "id": "gbZK5eQDcsxj",
        "outputId": "0526a119-41e2-4ef2-f743-3b95f48460f1"
      },
      "execution_count": 20,
      "outputs": [
        {
          "output_type": "stream",
          "name": "stdout",
          "text": [
            "Gurobi Optimizer version 12.0.0 build v12.0.0rc1 (linux64 - \"Ubuntu 22.04.3 LTS\")\n",
            "\n",
            "CPU model: Intel(R) Xeon(R) CPU @ 2.20GHz, instruction set [SSE2|AVX|AVX2]\n",
            "Thread count: 1 physical cores, 2 logical processors, using up to 2 threads\n",
            "\n",
            "Optimize a model with 3 rows, 6 columns and 6 nonzeros\n",
            "Model fingerprint: 0xdf98f6f9\n",
            "Variable types: 0 continuous, 6 integer (0 binary)\n",
            "Coefficient statistics:\n",
            "  Matrix range     [1e+00, 1e+01]\n",
            "  Objective range  [3e+02, 3e+02]\n",
            "  Bounds range     [0e+00, 0e+00]\n",
            "  RHS range        [2e+03, 2e+03]\n",
            "Presolve removed 3 rows and 6 columns\n",
            "Presolve time: 0.00s\n",
            "Presolve: All rows and columns removed\n",
            "\n",
            "Explored 0 nodes (0 simplex iterations) in 0.03 seconds (0.00 work units)\n",
            "Thread count was 1 (of 2 available processors)\n",
            "\n",
            "Solution count 1: 65800 \n",
            "\n",
            "Optimal solution found (tolerance 1.00e-04)\n",
            "Best objective 6.580000000000e+04, best bound 6.580000000000e+04, gap 0.0000%\n"
          ]
        }
      ]
    },
    {
      "cell_type": "code",
      "source": [
        "if model.status == GRB.OPTIMAL:\n",
        "    print(\"Optimal solution found:\")\n",
        "    print(\"x_rolls:\", x_rolls.x)\n",
        "    print(\"y_rod:\", y_rod.x)"
      ],
      "metadata": {
        "colab": {
          "base_uri": "https://localhost:8080/"
        },
        "id": "oA7F_3Jtcx6v",
        "outputId": "b787f247-3626-4099-bd76-a9d6a8c6ed0a"
      },
      "execution_count": 21,
      "outputs": [
        {
          "output_type": "stream",
          "name": "stdout",
          "text": [
            "Optimal solution found:\n",
            "x_rolls: 80.0\n",
            "y_rod: 152.0\n"
          ]
        }
      ]
    },
    {
      "cell_type": "markdown",
      "source": [
        "# More Problems To Solve( Coming Soon)"
      ],
      "metadata": {
        "id": "mN7iJpN9dtsl"
      }
    },
    {
      "cell_type": "markdown",
      "source": [
        "2. You are considering opening a multi-purpose print shop. It costs $10,000 to rent a multi-\n",
        "material printer (can print virtually anything up to banner size and on a wide range of materials)\n",
        "for a year, and it costs an average of $0.85 per print to operate the printer. Other fixed costs of\n",
        "running the store will amount to $2,400 per month. You plan to charge an average of $3.50 per\n",
        "print, and the store will be open 365 days per year. Each copier can make up to 100,000 prints\n",
        "per year.\n",
        "a. For one to five printers rented and daily demands of 50, 100, 250, and 500 prints per day,\n",
        "find annual profit. That is, find annual profit for each of these combinations of printers rented\n",
        "and daily demand.\n",
        "b. If you rent three printers, what daily demand for prints will allow you to break even?\n"
      ],
      "metadata": {
        "id": "BcnTh25Ve5_Q"
      }
    },
    {
      "cell_type": "markdown",
      "source": [
        "3. An online pharmacy operates a customer support contact center. Representatives are available\n",
        "to answer email, chat, phone, or social media inquiries twenty-four hours per day. The center's\n",
        "shift supervisor’s forecast requires that each shift have a minimum number of representatives\n",
        "available on the following shifts: five from midnight to 4a.m.; four from 4a.m. to 8a.m., eight\n",
        "from 8a.m. to noon, nine from noon to 4p.m., ten from 4p.m. to 8p.m., and six from 8 p.m. to\n",
        "midnight. Each representative works two consecutive four-hour shifts per day.\n",
        "\n",
        "A. Find the optimal shift staffing policy\n",
        "\n",
        "B. How does the solution change if employees who work during any part of the night\n",
        "between midnight and eight AM are paid 200 per day and employees who don’t work\n",
        "during those hours are paid $160 per day?\n"
      ],
      "metadata": {
        "id": "qKdLf6Lte7XB"
      }
    },
    {
      "cell_type": "markdown",
      "source": [
        "4. Hood Strawberries, LLC is known for their two high quality products made from their specific\n",
        "strain of “hood*” strawberries – extra juicy, sweet, and beautifully red (as a strawberry should\n",
        "be). The two products are strawberry preserves and flash frozen whole strawberries. They\n",
        "grade their strawberries on a scale of 1 (acceptable) to 5 (superior). The average quality of\n",
        "strawberries used in the preserves must be at least 2.95. The average quality of the\n",
        "strawberries used in the flash frozen strawberries must be at least a 4.2. HSL has 2,000 pounds\n",
        "of 5-rated strawberries, 10,000 pounds of 4-rated berries, and 20,000 pounds of 2-rated\n",
        "strawberries on hand. A pound of strawberries used in preserves yields a revenue of $8.25 and\n",
        "incurs a variable cost of $1.32. A pound of strawberries used in flash frozen berries yields a\n",
        "revenue of $17.42 and incurs a variable cost of $1.76. Berries that can’t be used in the\n",
        "preserves or flash frozen can’t be stored and must be juiced and sold to other food producers.\n",
        "Each pound of berries sent to the juicer incurs a variable cost of $0.22 and can be sold for\n",
        "$0.73. Find a way for HSL to maximize their profit on their current inventory of berries. How\n",
        "does changing the required average quality of Frozen berries impact their decision?"
      ],
      "metadata": {
        "id": "XSi5gDRwfL7r"
      }
    },
    {
      "cell_type": "markdown",
      "source": [
        "A farmer is loading a delivery truck to send produce to market. The farmer must determine\n",
        "which and how many of each vegetable he should include on the truck. Each vegetable is\n",
        "packed into cardboard bins. The weight of the vegetable bins and their market value is given in\n",
        "the data section below. If the truck can carry up to 1,500 pounds of vegetables, how many of\n",
        "each of the vegetables should they load onto the truck assuming that at least one of each\n",
        "vegetable is necessary?\n",
        "\n",
        "                   Carrots Tomato Potato\n",
        "Value\n",
        "                   $23.00.  $17.00. $15.00\n",
        "Weight per bin (lbs) 400    300     200\n"
      ],
      "metadata": {
        "id": "H3KYald7gH-9"
      }
    },
    {
      "cell_type": "markdown",
      "source": [
        "JuiceTastic produces two types of juice: Mango nectar and\n",
        "Cranberry juice. If it charges price p1 for mango nectar and p2 for\n",
        "cranberry per gallon, then it can sell q1 and q2 gallons of mango\n",
        "nectar and cranberry, respectively, where q1 = 75 - 3p1 + 2p2 and\n",
        "q2 = 90 - 2p2 + p1. Producing one gallon of mango nectar costs $5\n",
        "and one gallon of cranberry juice costs $12. How many gallons of each juice should the\n",
        "company make and how much should it charge so that the company could maximize its profit?\n"
      ],
      "metadata": {
        "id": "xZqi7b7ZgKr2"
      }
    },
    {
      "cell_type": "markdown",
      "source": [],
      "metadata": {
        "id": "958m6vckgb9G"
      }
    }
  ]
}